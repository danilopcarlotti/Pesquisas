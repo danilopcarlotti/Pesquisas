{
 "cells": [
  {
   "cell_type": "code",
   "execution_count": 1,
   "metadata": {},
   "outputs": [],
   "source": [
    "import pandas as pd, pymongo"
   ]
  },
  {
   "cell_type": "code",
   "execution_count": 6,
   "metadata": {},
   "outputs": [],
   "source": [
    "myclient = pymongo.MongoClient('127.0.0.1:27017')\n",
    "mydb = myclient['textos_classificar']\n",
    "mycol = mydb['textos']"
   ]
  },
  {
   "cell_type": "code",
   "execution_count": 11,
   "metadata": {},
   "outputs": [
    {
     "data": {
      "text/plain": [
       "<pymongo.results.InsertOneResult at 0x7f1b934b3248>"
      ]
     },
     "execution_count": 11,
     "metadata": {},
     "output_type": "execute_result"
    }
   ],
   "source": [
    "mycol.insert_one({'texto_bruto':'bbbbb','classe':'Indefinida'})"
   ]
  },
  {
   "cell_type": "code",
   "execution_count": 12,
   "metadata": {},
   "outputs": [
    {
     "name": "stdout",
     "output_type": "stream",
     "text": [
      "{'_id': ObjectId('5dc1b49689dcb752578e5067'), 'texto_bruto': 'aaaa', 'classe': 'Indefinida'}\n",
      "{'_id': ObjectId('5dc1ca0c89dcb752578e5068'), 'texto_bruto': 'bbbbb', 'classe': 'Indefinida'}\n"
     ]
    }
   ],
   "source": [
    "for d in mycol.find({}):\n",
    "    print(d)"
   ]
  },
  {
   "cell_type": "raw",
   "metadata": {},
   "source": [
    "def insert_docs(docs_col, df):\n",
    "    for index, row in df.iterrows():\n",
    "        docs_col.insert_one({\n",
    "            'texto_bruto':row['texto'],\n",
    "            'classe':'Indefinida'\n",
    "        })"
   ]
  },
  {
   "cell_type": "code",
   "execution_count": null,
   "metadata": {},
   "outputs": [],
   "source": []
  }
 ],
 "metadata": {
  "file_extension": ".py",
  "kernelspec": {
   "display_name": "Python 3",
   "language": "python",
   "name": "python3"
  },
  "language_info": {
   "codemirror_mode": {
    "name": "ipython",
    "version": 3
   },
   "file_extension": ".py",
   "mimetype": "text/x-python",
   "name": "python",
   "nbconvert_exporter": "python",
   "pygments_lexer": "ipython3",
   "version": "3.6.8"
  },
  "mimetype": "text/x-python",
  "name": "python",
  "npconvert_exporter": "python",
  "pygments_lexer": "ipython3",
  "version": 3
 },
 "nbformat": 4,
 "nbformat_minor": 2
}