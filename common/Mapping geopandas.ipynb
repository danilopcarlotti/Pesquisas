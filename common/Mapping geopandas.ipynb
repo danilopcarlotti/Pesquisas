{
 "cells": [
  {
   "cell_type": "code",
   "execution_count": null,
   "metadata": {},
   "outputs": [],
   "source": [
    "import pandas as pd, geopandas as gpd, matplotlib.pyplot as plt"
   ]
  },
  {
   "cell_type": "code",
   "execution_count": 17,
   "metadata": {},
   "outputs": [],
   "source": [
    "def remove_accents(texto):\n",
    "\tdicionario_acentos = {'Á':'A','Ã':'A','À':'A','á':'a','ã':'a','à':'a','É':'E','é':'e','Í':'I','í':'i',\n",
    "\t'Ó':'O','ó':'o','Õ':'O','õ':'o','Ú':'U','ú':'u','ç':'c','Ç':'Ç'}\n",
    "\ttexto = str(texto).strip()\n",
    "\tfor k,v in dicionario_acentos.items():\n",
    "\t\ttexto = texto.replace(k,v)\n",
    "\treturn texto"
   ]
  },
  {
   "cell_type": "code",
   "execution_count": 14,
   "metadata": {},
   "outputs": [],
   "source": [
    "def plot_points_shape_excel_marker_colors(path_shp_file, path_excel_lat_lon,column_marker='markersize'):\n",
    "    df = pd.read_excel(path_excel_lat_lon)\n",
    "    gdf = gpd.GeoDataFrame(df, geometry=gpd.points_from_xy(df.Longitude, df.Latitude))\n",
    "    f, ax = plt.subplots(figsize=(20, 10))\n",
    "    mapa = gpd.read_file(path_shp_file)\n",
    "    mapa.plot(ax=ax, color='white',edgecolor='black')\n",
    "    gdf.plot(ax=ax, color='red',markersize=df[column_marker])\n",
    "    ax.axis('off')\n",
    "    plt.tight_layout()\n",
    "    plt.show()"
   ]
  },
  {
   "cell_type": "code",
   "execution_count": 15,
   "metadata": {},
   "outputs": [],
   "source": [
    "def plot_heatmap_areas_shape_file(shape_file, list_values_heatmap):\n",
    "    gdf = gpd.read_file(shape_file)\n",
    "    fig, ax = plt.subplots(figsize=(20, 10))\n",
    "    gdf['markersize'] = pd.Series(list_values_heatmap)\n",
    "    ax.axis('off')\n",
    "    plt.tight_layout()\n",
    "    gdf.plot(cmap='YlOrRd',column='markersize', ax=ax, legend=True, linewidth=1, edgecolor='black')"
   ]
  },
  {
   "cell_type": "code",
   "execution_count": 16,
   "metadata": {},
   "outputs": [],
   "source": [
    "def list_values_heatmap(shape_file,path_excel_target_values, column_shape_target='target', column_source_name='source',column_source_values='values'):\n",
    "    list_values = []\n",
    "    dic_source_values = {}\n",
    "    df_target = pd.read_excel(path_excel_target_values)\n",
    "    gdf = gpd.read_file(shape_file)\n",
    "    for index, row in df_target.iterrows():\n",
    "        nome_target = remove_accents(row[column_source_name])\n",
    "        if nome_target not in dic_source_values:\n",
    "            dic_source_values[nome_target] = 0\n",
    "        dic_source_values[nome_target] += row[column_source_values]\n",
    "    for index, row in gdf.iterrows():\n",
    "        nome_target = remove_accents(row[column_shape_target])\n",
    "        if nome_target in dic_source_values:\n",
    "            list_values.append(dic_source_values[nome_target])\n",
    "        else:\n",
    "            list_values.append(-1)\n",
    "    return list_values"
   ]
  }
 ],
 "metadata": {
  "kernelspec": {
   "display_name": "Python 3",
   "language": "python",
   "name": "python3"
  },
  "language_info": {
   "codemirror_mode": {
    "name": "ipython",
    "version": 3
   },
   "file_extension": ".py",
   "mimetype": "text/x-python",
   "name": "python",
   "nbconvert_exporter": "python",
   "pygments_lexer": "ipython3",
   "version": "3.6.9"
  }
 },
 "nbformat": 4,
 "nbformat_minor": 2
}
